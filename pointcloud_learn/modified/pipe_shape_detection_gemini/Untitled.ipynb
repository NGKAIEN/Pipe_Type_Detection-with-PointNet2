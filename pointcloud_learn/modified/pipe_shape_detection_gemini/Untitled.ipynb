{
 "cells": [
  {
   "cell_type": "code",
   "execution_count": 3,
   "id": "bf8010c5-860f-4560-bdbf-ad53b8b12c8c",
   "metadata": {},
   "outputs": [
    {
     "name": "stdout",
     "output_type": "stream",
     "text": [
      "(41681, 3)\n"
     ]
    }
   ],
   "source": [
    "import numpy as np\n",
    "\n",
    "# 假设你的文件路径是 '.t'\n",
    "data = np.loadtxt('./data/pipe_shape_detection2/left/left_0001.txt',delimiter=',')\n",
    "print(data.shape)  # 打印数据形状以确认其维度"
   ]
  },
  {
   "cell_type": "code",
   "execution_count": 1,
   "id": "4ab20324-59e1-4fc5-b427-129471ab56d0",
   "metadata": {},
   "outputs": [
    {
     "name": "stdout",
     "output_type": "stream",
     "text": [
      "[[[0. 0. 0.]\n",
      "  [0. 0. 0.]\n",
      "  [0. 0. 0.]]\n",
      "\n",
      " [[0. 0. 0.]\n",
      "  [0. 0. 0.]\n",
      "  [0. 0. 0.]]\n",
      "\n",
      " [[0. 0. 0.]\n",
      "  [0. 0. 0.]\n",
      "  [0. 0. 0.]]]\n"
     ]
    }
   ],
   "source": [
    "import numpy as np\n",
    "\n",
    "# 创建一个3x3x3的三维数组\n",
    "array_3d = np.zeros((3, 3, 3))\n",
    "\n",
    "# 打印数组\n",
    "print(array_3d)"
   ]
  },
  {
   "cell_type": "code",
   "execution_count": 3,
   "id": "5357a733-ec00-414b-8036-019bb902f0ab",
   "metadata": {},
   "outputs": [
    {
     "name": "stdout",
     "output_type": "stream",
     "text": [
      "[[0. 0. 0.]\n",
      " [0. 0. 0.]\n",
      " [0. 0. 0.]\n",
      " [0. 0. 0.]\n",
      " [0. 0. 0.]]\n"
     ]
    }
   ],
   "source": [
    "import numpy as np\n",
    "\n",
    "# 创建一个3x3x3的三维数组\n",
    "array_3d = np.zeros((5, 3))\n",
    "\n",
    "# 打印数组\n",
    "print(array_3d)"
   ]
  },
  {
   "cell_type": "code",
   "execution_count": 8,
   "id": "e447818b-b335-4653-8a1a-57fd7d9be489",
   "metadata": {},
   "outputs": [
    {
     "name": "stdout",
     "output_type": "stream",
     "text": [
      "PointCloud with 256000 points.\n",
      "(256000, 3)\n",
      "768000\n",
      "(41680, 3)\n",
      "125040\n"
     ]
    }
   ],
   "source": [
    "import open3d as o3d\n",
    "import numpy as np\n",
    "import os\n",
    "\n",
    "ply_path = \"./data/pipe_shape_detection2/left/left_0001.ply\"  # 将此路径替换为你的文件夹路径\n",
    "point_cloud = o3d.io.read_point_cloud(ply_path)\n",
    "print(point_cloud)\n",
    "points = np.asarray(point_cloud.points)\n",
    "print(points.shape)\n",
    "print(points.size)\n",
    "points = points[np.linalg.norm(points - [0, 0, 0], axis=1) > 1e-6]\n",
    "print(points.shape)\n",
    "print(points.size)"
   ]
  },
  {
   "cell_type": "code",
   "execution_count": 16,
   "id": "16a5013c-9c47-4cf8-ad19-d4545fae5ba0",
   "metadata": {},
   "outputs": [
    {
     "name": "stdout",
     "output_type": "stream",
     "text": [
      "41680\n"
     ]
    }
   ],
   "source": [
    "num_points = points.shape[0]\n",
    "print(num_points)"
   ]
  },
  {
   "cell_type": "code",
   "execution_count": 18,
   "id": "1af31c38-f9fb-4fe3-950e-f40491810d3a",
   "metadata": {},
   "outputs": [],
   "source": [
    "padded_points = np.zeros((num_points, 3))\n",
    "padded_points[:num_points] = points"
   ]
  },
  {
   "cell_type": "code",
   "execution_count": 26,
   "id": "b8b44300-63c7-40b0-beec-75b5d23a8886",
   "metadata": {},
   "outputs": [
    {
     "name": "stdout",
     "output_type": "stream",
     "text": [
      "(41680, 3)\n",
      "125040\n",
      "2\n"
     ]
    }
   ],
   "source": [
    "print(padded_points.shape)\n",
    "print(padded_points.size)\n",
    "print(padded_points.ndim)"
   ]
  },
  {
   "cell_type": "code",
   "execution_count": 38,
   "id": "8e935a03-6fd1-4964-9aca-f76e90291cc7",
   "metadata": {},
   "outputs": [
    {
     "name": "stdout",
     "output_type": "stream",
     "text": [
      "[Open3D WARNING] Read PLY failed: unable to open file: ./data/pipe_shape_detection2/left/open_0026.ply\n",
      "PointCloud with 0 points.\n",
      "(0, 3)\n",
      "0\n",
      "(0, 3)\n",
      "0\n"
     ]
    }
   ],
   "source": [
    "ply_path = \"./data/pipe_shape_detection2/left/open_0026.ply\"  # 将此路径替换为你的文件夹路径\n",
    "point_cloud = o3d.io.read_point_cloud(ply_path)\n",
    "print(point_cloud)\n",
    "points = np.asarray(point_cloud.points)\n",
    "print(points.shape)\n",
    "print(points.size)\n",
    "points = points[np.linalg.norm(points - [0.000000, 0.000000, 0.000000], axis=1) > 1e-1]\n",
    "print(points.shape)\n",
    "print(points.size)"
   ]
  },
  {
   "cell_type": "code",
   "execution_count": 30,
   "id": "fc2bba58-bd00-4d54-bd64-8d98915f1102",
   "metadata": {},
   "outputs": [
    {
     "name": "stdout",
     "output_type": "stream",
     "text": [
      "41680\n"
     ]
    }
   ],
   "source": [
    "\n"
   ]
  },
  {
   "cell_type": "code",
   "execution_count": null,
   "id": "75c14997-b829-4a56-a69e-a7d38228eeeb",
   "metadata": {},
   "outputs": [],
   "source": []
  }
 ],
 "metadata": {
  "kernelspec": {
   "display_name": "Python 3 (ipykernel)",
   "language": "python",
   "name": "python3"
  },
  "language_info": {
   "codemirror_mode": {
    "name": "ipython",
    "version": 3
   },
   "file_extension": ".py",
   "mimetype": "text/x-python",
   "name": "python",
   "nbconvert_exporter": "python",
   "pygments_lexer": "ipython3",
   "version": "3.11.7"
  }
 },
 "nbformat": 4,
 "nbformat_minor": 5
}
